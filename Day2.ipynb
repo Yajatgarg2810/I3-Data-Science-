{
  "nbformat": 4,
  "nbformat_minor": 0,
  "metadata": {
    "colab": {
      "provenance": []
    },
    "kernelspec": {
      "name": "python3",
      "display_name": "Python 3"
    },
    "language_info": {
      "name": "python"
    }
  },
  "cells": [
    {
      "cell_type": "code",
      "execution_count": 1,
      "metadata": {
        "colab": {
          "base_uri": "https://localhost:8080/"
        },
        "id": "fhmGy8SZiyWx",
        "outputId": "c5b31df3-c25e-4451-fc83-16c6e8fa2a6e"
      },
      "outputs": [
        {
          "output_type": "execute_result",
          "data": {
            "text/plain": [
              "str"
            ]
          },
          "metadata": {},
          "execution_count": 1
        }
      ],
      "source": [
        "a=\"sum\"\n",
        "type(a)\n"
      ]
    },
    {
      "cell_type": "code",
      "source": [
        "for i in range (len(a)):\n",
        "    print(a[i])\n"
      ],
      "metadata": {
        "colab": {
          "base_uri": "https://localhost:8080/"
        },
        "id": "OiFymsxTi3Jg",
        "outputId": "aaa2ec65-dafd-4879-d0b5-5e858bb45725"
      },
      "execution_count": 2,
      "outputs": [
        {
          "output_type": "stream",
          "name": "stdout",
          "text": [
            "s\n",
            "u\n",
            "m\n"
          ]
        }
      ]
    },
    {
      "cell_type": "code",
      "source": [
        "#Properties of String\n",
        "# 1. Conacatenation\n",
        "a='12'+'34'\n",
        "print(a)"
      ],
      "metadata": {
        "colab": {
          "base_uri": "https://localhost:8080/"
        },
        "id": "sMCaBX1Wi3F_",
        "outputId": "1b21c78a-78af-4e9e-f96c-f003dd4de328"
      },
      "execution_count": 3,
      "outputs": [
        {
          "output_type": "stream",
          "name": "stdout",
          "text": [
            "1234\n"
          ]
        }
      ]
    },
    {
      "cell_type": "code",
      "source": [
        "#Replication\n",
        "a='12'+3\n",
        "print(a)\n"
      ],
      "metadata": {
        "colab": {
          "base_uri": "https://localhost:8080/",
          "height": 176
        },
        "id": "JUJU5IyWi3Do",
        "outputId": "649d0947-5c42-4681-f80d-4070d48d799a"
      },
      "execution_count": 4,
      "outputs": [
        {
          "output_type": "error",
          "ename": "TypeError",
          "evalue": "can only concatenate str (not \"int\") to str",
          "traceback": [
            "\u001b[0;31m---------------------------------------------------------------------------\u001b[0m",
            "\u001b[0;31mTypeError\u001b[0m                                 Traceback (most recent call last)",
            "\u001b[0;32m<ipython-input-4-421e6389809c>\u001b[0m in \u001b[0;36m<cell line: 2>\u001b[0;34m()\u001b[0m\n\u001b[1;32m      1\u001b[0m \u001b[0;31m#Replication\u001b[0m\u001b[0;34m\u001b[0m\u001b[0;34m\u001b[0m\u001b[0m\n\u001b[0;32m----> 2\u001b[0;31m \u001b[0ma\u001b[0m\u001b[0;34m=\u001b[0m\u001b[0;34m'12'\u001b[0m\u001b[0;34m+\u001b[0m\u001b[0;36m3\u001b[0m\u001b[0;34m\u001b[0m\u001b[0;34m\u001b[0m\u001b[0m\n\u001b[0m\u001b[1;32m      3\u001b[0m \u001b[0mprint\u001b[0m\u001b[0;34m(\u001b[0m\u001b[0ma\u001b[0m\u001b[0;34m)\u001b[0m\u001b[0;34m\u001b[0m\u001b[0;34m\u001b[0m\u001b[0m\n",
            "\u001b[0;31mTypeError\u001b[0m: can only concatenate str (not \"int\") to str"
          ]
        }
      ]
    },
    {
      "cell_type": "code",
      "source": [
        "# 3. Slicing in String\n",
        "a=\"Python\"\n",
        "print(a[0])\n",
        "print(a[1])\n",
        "print(a[2])\n",
        "\n",
        "print(a[-1])\n",
        "print(a[-2])\n",
        "print(a[-3])"
      ],
      "metadata": {
        "colab": {
          "base_uri": "https://localhost:8080/"
        },
        "id": "Eb98OTjBi2_x",
        "outputId": "2803ab1b-c711-4005-cc87-ebee29a92ebe"
      },
      "execution_count": 5,
      "outputs": [
        {
          "output_type": "stream",
          "name": "stdout",
          "text": [
            "P\n",
            "y\n",
            "t\n",
            "n\n",
            "o\n",
            "h\n"
          ]
        }
      ]
    },
    {
      "cell_type": "code",
      "source": [
        "a=\"Python\"\n",
        "print(a[0:4])\n",
        "print(a[4:])\n",
        "print(a[:3])\n",
        "print(a[:])\n"
      ],
      "metadata": {
        "colab": {
          "base_uri": "https://localhost:8080/"
        },
        "id": "sHJVQR8xi29p",
        "outputId": "87b3edaa-ccd8-463c-d9b4-d318232aa056"
      },
      "execution_count": 6,
      "outputs": [
        {
          "output_type": "stream",
          "name": "stdout",
          "text": [
            "Pyth\n",
            "on\n",
            "Pyt\n",
            "Python\n"
          ]
        }
      ]
    },
    {
      "cell_type": "code",
      "source": [
        "# 1. Lower() and Upper(): Conver the string to lowercase or uppercase\n",
        "text=\"Hello\"\n",
        "print(text.lower())\n",
        "print(text.upper())"
      ],
      "metadata": {
        "colab": {
          "base_uri": "https://localhost:8080/"
        },
        "id": "PlojXc_hi28G",
        "outputId": "04694ae1-920a-41c8-cfb6-2ad62329f0e5"
      },
      "execution_count": 7,
      "outputs": [
        {
          "output_type": "stream",
          "name": "stdout",
          "text": [
            "hello\n",
            "HELLO\n"
          ]
        }
      ]
    },
    {
      "cell_type": "code",
      "source": [
        "# 2. Strip(): Removes whitespaces from both ends of strings\n",
        "text=\"            Hello ,   World!       \"\n",
        "print(text.strip())\n"
      ],
      "metadata": {
        "colab": {
          "base_uri": "https://localhost:8080/"
        },
        "id": "0_wWtpZdi26B",
        "outputId": "eb5b9880-51e8-4f94-b5f5-235ed7766121"
      },
      "execution_count": 8,
      "outputs": [
        {
          "output_type": "stream",
          "name": "stdout",
          "text": [
            "Hello ,   World!\n"
          ]
        }
      ]
    },
    {
      "cell_type": "code",
      "source": [
        "# 3. replace: Replaces a substring with another string\n",
        "text=\"I love Python\"\n",
        "print(text.replace(\"Python\",\"coding\"))"
      ],
      "metadata": {
        "colab": {
          "base_uri": "https://localhost:8080/"
        },
        "id": "1xglj9R7i23r",
        "outputId": "23428716-2801-485c-963c-2c37b8954704"
      },
      "execution_count": 9,
      "outputs": [
        {
          "output_type": "stream",
          "name": "stdout",
          "text": [
            "I love coding\n"
          ]
        }
      ]
    },
    {
      "cell_type": "code",
      "source": [
        "# 4. split(): Splits a string into a list\n",
        "text=\"Apple, Banana, Cherry\"\n",
        "print(text.split(\",\"))"
      ],
      "metadata": {
        "colab": {
          "base_uri": "https://localhost:8080/"
        },
        "id": "vaiRCXMni21a",
        "outputId": "3b5d1000-99cc-4ec4-be8d-ccb9e6b0e1dc"
      },
      "execution_count": 10,
      "outputs": [
        {
          "output_type": "stream",
          "name": "stdout",
          "text": [
            "['Apple', ' Banana', ' Cherry']\n"
          ]
        }
      ]
    },
    {
      "cell_type": "code",
      "source": [
        "# 5. join():Joins elements of a list into a single string\n",
        "fruits=[\"Apple\",\"Banana\",\"Cherry\"]\n",
        "print(\",\".join(fruits))"
      ],
      "metadata": {
        "colab": {
          "base_uri": "https://localhost:8080/"
        },
        "id": "Kf4mbBovi2zy",
        "outputId": "3cbf8470-fe3f-42c2-862d-818d772a4a74"
      },
      "execution_count": 11,
      "outputs": [
        {
          "output_type": "stream",
          "name": "stdout",
          "text": [
            "Apple,Banana,Cherry\n"
          ]
        }
      ]
    },
    {
      "cell_type": "code",
      "source": [
        "# 6. Isalnum():\n",
        "a=\"sam123\"\n",
        "a.isalnum()"
      ],
      "metadata": {
        "colab": {
          "base_uri": "https://localhost:8080/"
        },
        "id": "PCzcWSoEi2xa",
        "outputId": "872a2ad6-3cf5-4dc3-c90e-5a5db6fe8df8"
      },
      "execution_count": 12,
      "outputs": [
        {
          "output_type": "execute_result",
          "data": {
            "text/plain": [
              "True"
            ]
          },
          "metadata": {},
          "execution_count": 12
        }
      ]
    },
    {
      "cell_type": "code",
      "source": [
        "# 7.Isalpha():\n",
        "a=\"sam\"\n",
        "a.isalpha()"
      ],
      "metadata": {
        "colab": {
          "base_uri": "https://localhost:8080/"
        },
        "id": "fbnC10XIi2vU",
        "outputId": "367c9cac-3ef7-4cae-b9c7-6e3bdcf6a987"
      },
      "execution_count": 14,
      "outputs": [
        {
          "output_type": "execute_result",
          "data": {
            "text/plain": [
              "True"
            ]
          },
          "metadata": {},
          "execution_count": 14
        }
      ]
    },
    {
      "cell_type": "code",
      "source": [
        "# 8. isdigit():\n",
        "a=\"1234\"\n",
        "a.isdigit()"
      ],
      "metadata": {
        "colab": {
          "base_uri": "https://localhost:8080/"
        },
        "id": "PYpWYT4Ai2tW",
        "outputId": "531d014b-e828-414a-8a5f-38725700a1eb"
      },
      "execution_count": 16,
      "outputs": [
        {
          "output_type": "execute_result",
          "data": {
            "text/plain": [
              "True"
            ]
          },
          "metadata": {},
          "execution_count": 16
        }
      ]
    },
    {
      "cell_type": "markdown",
      "source": [
        "### **List in Python**"
      ],
      "metadata": {
        "id": "6WuJR9o6m4nd"
      }
    },
    {
      "cell_type": "code",
      "source": [
        "# 1. identification = []\n",
        "# 2. Mutable datatype == We can change or update the values at a runtime\n",
        "# 3. Indexing start from 0 and length start from 1"
      ],
      "metadata": {
        "id": "JSH0vK3nmJ6D"
      },
      "execution_count": 17,
      "outputs": []
    },
    {
      "cell_type": "code",
      "source": [
        "a=['sam','python','rahul','math']\n",
        "type(a)"
      ],
      "metadata": {
        "colab": {
          "base_uri": "https://localhost:8080/"
        },
        "id": "rRjC48qUmMYa",
        "outputId": "5093e122-0313-46a5-8f90-ad71f318140f"
      },
      "execution_count": 18,
      "outputs": [
        {
          "output_type": "execute_result",
          "data": {
            "text/plain": [
              "list"
            ]
          },
          "metadata": {},
          "execution_count": 18
        }
      ]
    },
    {
      "cell_type": "code",
      "source": [
        "print(a[0][2])\n",
        "print(a[1])\n",
        "print(a[2])\n",
        "print(a[3])"
      ],
      "metadata": {
        "colab": {
          "base_uri": "https://localhost:8080/"
        },
        "id": "RaicLm23mMVD",
        "outputId": "d652c5b2-151e-47c0-b781-746d31afa9ba"
      },
      "execution_count": 20,
      "outputs": [
        {
          "output_type": "stream",
          "name": "stdout",
          "text": [
            "m\n",
            "python\n",
            "rahul\n",
            "math\n"
          ]
        }
      ]
    },
    {
      "cell_type": "code",
      "source": [
        "for i in range(len(a)):\n",
        "  print(a[i])"
      ],
      "metadata": {
        "colab": {
          "base_uri": "https://localhost:8080/"
        },
        "id": "fP46-qG-mMRt",
        "outputId": "2616eb89-b2f9-41e6-bcbe-7f4a56cde5e9"
      },
      "execution_count": 21,
      "outputs": [
        {
          "output_type": "stream",
          "name": "stdout",
          "text": [
            "sam\n",
            "python\n",
            "rahul\n",
            "math\n"
          ]
        }
      ]
    },
    {
      "cell_type": "code",
      "source": [
        "for i in range(len(a)):\n",
        "  print(i)"
      ],
      "metadata": {
        "colab": {
          "base_uri": "https://localhost:8080/"
        },
        "id": "TDSsh0M-mMPQ",
        "outputId": "e05ea05c-b28a-4165-de0e-67ffb7d3e2cd"
      },
      "execution_count": 24,
      "outputs": [
        {
          "output_type": "stream",
          "name": "stdout",
          "text": [
            "0\n",
            "1\n",
            "2\n",
            "3\n"
          ]
        }
      ]
    },
    {
      "cell_type": "markdown",
      "source": [
        "# **Properties of List**\n",
        "\n"
      ],
      "metadata": {
        "id": "4nBinQCrpRgL"
      }
    },
    {
      "cell_type": "code",
      "source": [
        "\n",
        "# 1. Concatenation\n",
        "a=[1,2,3]\n",
        "b=[4,5,6]\n",
        "c=a+b\n",
        "print(c)"
      ],
      "metadata": {
        "colab": {
          "base_uri": "https://localhost:8080/"
        },
        "id": "M6utyWD1mMMl",
        "outputId": "4579cdc8-c616-4f14-8956-dd6b3e300701"
      },
      "execution_count": 26,
      "outputs": [
        {
          "output_type": "stream",
          "name": "stdout",
          "text": [
            "[1, 2, 3, 4, 5, 6]\n"
          ]
        }
      ]
    },
    {
      "cell_type": "code",
      "source": [
        "# 2. Replication\n",
        "a=[1,2,3]\n",
        "a*3"
      ],
      "metadata": {
        "colab": {
          "base_uri": "https://localhost:8080/"
        },
        "id": "d9sV9nYHmMKH",
        "outputId": "9105d6a2-05d5-40f8-e951-7269b027e904"
      },
      "execution_count": 27,
      "outputs": [
        {
          "output_type": "execute_result",
          "data": {
            "text/plain": [
              "[1, 2, 3, 1, 2, 3, 1, 2, 3]"
            ]
          },
          "metadata": {},
          "execution_count": 27
        }
      ]
    },
    {
      "cell_type": "markdown",
      "source": [
        "# Functions in List"
      ],
      "metadata": {
        "id": "adR5vYFJqApB"
      }
    },
    {
      "cell_type": "code",
      "source": [
        "# 1. Len()\n",
        "a=[1,2,3,4,5]\n",
        "print(len(a))\n",
        "print(a.index(5))"
      ],
      "metadata": {
        "colab": {
          "base_uri": "https://localhost:8080/"
        },
        "id": "wxhozabomMF7",
        "outputId": "4eabcd1e-ad21-44dc-b201-d904d01695b2"
      },
      "execution_count": 31,
      "outputs": [
        {
          "output_type": "stream",
          "name": "stdout",
          "text": [
            "5\n",
            "4\n"
          ]
        }
      ]
    },
    {
      "cell_type": "code",
      "source": [
        "# 2. index()\n",
        "a=['sam','python','rahul','math']\n",
        "print(a.index('math'))"
      ],
      "metadata": {
        "colab": {
          "base_uri": "https://localhost:8080/"
        },
        "id": "Kn6ULu3dmMEN",
        "outputId": "1455323c-7bb4-4ff3-e21e-f13e2c12c4ca"
      },
      "execution_count": 29,
      "outputs": [
        {
          "output_type": "stream",
          "name": "stdout",
          "text": [
            "3\n"
          ]
        }
      ]
    },
    {
      "cell_type": "code",
      "source": [
        "# 3. append() == It will add element in the last indexing\n",
        "a=['sam','python','rahul','math']\n",
        "a.append('physics')\n",
        "a"
      ],
      "metadata": {
        "colab": {
          "base_uri": "https://localhost:8080/"
        },
        "id": "2SYQFj7hmMCD",
        "outputId": "dd1d45ac-9a0b-485f-c9c8-a8645f5d6c6b"
      },
      "execution_count": 33,
      "outputs": [
        {
          "output_type": "execute_result",
          "data": {
            "text/plain": [
              "['sam', 'python', 'rahul', 'math', 'physics']"
            ]
          },
          "metadata": {},
          "execution_count": 33
        }
      ]
    },
    {
      "cell_type": "code",
      "source": [
        "# 4. insert(index, object)== We can add element at any indexing\n",
        "a=['sam','python','rahul','math']\n",
        "a.insert(1,'chemistry')\n",
        "a"
      ],
      "metadata": {
        "colab": {
          "base_uri": "https://localhost:8080/"
        },
        "id": "Bvw2fklXqw2L",
        "outputId": "9fb9d10a-e6ea-4184-8bf8-7d47b35b94a3"
      },
      "execution_count": 34,
      "outputs": [
        {
          "output_type": "execute_result",
          "data": {
            "text/plain": [
              "['sam', 'chemistry', 'python', 'rahul', 'math']"
            ]
          },
          "metadata": {},
          "execution_count": 34
        }
      ]
    },
    {
      "cell_type": "code",
      "source": [
        "# 5. remove()\n",
        "a=['sam','python','rahul','math']\n",
        "a.remove('math')\n",
        "a"
      ],
      "metadata": {
        "id": "g3lhI57cqwys"
      },
      "execution_count": 35,
      "outputs": []
    },
    {
      "cell_type": "code",
      "source": [
        "# 6. pop()\n",
        "a=['sam','python','rahul','math']\n",
        "print(a)\n",
        "a.pop()\n",
        "print(a)\n",
        "a.pop()\n",
        "print(a)\n",
        "a.pop()\n",
        "print(a)\n"
      ],
      "metadata": {
        "colab": {
          "base_uri": "https://localhost:8080/"
        },
        "id": "1MuYEj7jqwwW",
        "outputId": "c5b3f11d-5ed1-4703-c021-9a625c0d60fc"
      },
      "execution_count": 37,
      "outputs": [
        {
          "output_type": "stream",
          "name": "stdout",
          "text": [
            "['sam', 'python', 'rahul', 'math']\n",
            "['sam', 'python', 'rahul']\n",
            "['sam', 'python']\n",
            "['sam']\n"
          ]
        }
      ]
    },
    {
      "cell_type": "markdown",
      "source": [
        "# **How can we create user defined list**"
      ],
      "metadata": {
        "id": "7sserrw7s-yF"
      }
    },
    {
      "cell_type": "code",
      "source": [
        "a=[]\n",
        "size = int(input(\"Enter item:\"))\n",
        "for i in range (size):\n",
        "  Val = input(\"Enter value:\")\n",
        "  a.append(Val)\n",
        "print(a)"
      ],
      "metadata": {
        "colab": {
          "base_uri": "https://localhost:8080/"
        },
        "id": "uuHHyVkfqwtw",
        "outputId": "a0e42cc8-4d25-46bd-c44f-e3f838bc5bee"
      },
      "execution_count": 1,
      "outputs": [
        {
          "output_type": "stream",
          "name": "stdout",
          "text": [
            "Enter item:2\n",
            "Enter value:hsdfbns\n",
            "Enter value:jdksnA\n",
            "['hsdfbns', 'jdksnA']\n"
          ]
        }
      ]
    },
    {
      "cell_type": "markdown",
      "source": [
        "# **Tuple in Python**"
      ],
      "metadata": {
        "id": "rYhOTlLiuSS1"
      }
    },
    {
      "cell_type": "code",
      "source": [
        "# 1. Identification == ()\n",
        "# 2. Immutable datatype = We cannot change or update our values at a runtime\n",
        "# 3.Indexing start from 0 and length start from 1"
      ],
      "metadata": {
        "id": "puwb4t8Is6DR"
      },
      "execution_count": 2,
      "outputs": []
    },
    {
      "cell_type": "code",
      "source": [
        "a=('math','physics','js')\n",
        "type(a)"
      ],
      "metadata": {
        "colab": {
          "base_uri": "https://localhost:8080/"
        },
        "id": "_GhYJgMys5_x",
        "outputId": "570c1c66-d620-4e51-d635-2ff453dce842"
      },
      "execution_count": 3,
      "outputs": [
        {
          "output_type": "execute_result",
          "data": {
            "text/plain": [
              "tuple"
            ]
          },
          "metadata": {},
          "execution_count": 3
        }
      ]
    },
    {
      "cell_type": "code",
      "source": [
        "print(a[0])\n",
        "print(a[1])\n",
        "print(a[2])"
      ],
      "metadata": {
        "colab": {
          "base_uri": "https://localhost:8080/"
        },
        "id": "GeDhfoUas59T",
        "outputId": "514e571d-2ffa-4cbe-c6fb-311877182aa1"
      },
      "execution_count": 4,
      "outputs": [
        {
          "output_type": "stream",
          "name": "stdout",
          "text": [
            "math\n",
            "physics\n",
            "js\n"
          ]
        }
      ]
    },
    {
      "cell_type": "code",
      "source": [
        "a=13,\n",
        "type(a)"
      ],
      "metadata": {
        "colab": {
          "base_uri": "https://localhost:8080/"
        },
        "id": "PakxSeBus561",
        "outputId": "20ecedb0-b264-4cc5-85a7-4be1d0d509b1"
      },
      "execution_count": 6,
      "outputs": [
        {
          "output_type": "execute_result",
          "data": {
            "text/plain": [
              "tuple"
            ]
          },
          "metadata": {},
          "execution_count": 6
        }
      ]
    },
    {
      "cell_type": "markdown",
      "source": [
        "# Loop in Tuple"
      ],
      "metadata": {
        "id": "61yCxc4rwFSl"
      }
    },
    {
      "cell_type": "code",
      "source": [
        "a= ('raj','sam','mohit')\n",
        "for i in a:\n",
        "  print(i)"
      ],
      "metadata": {
        "colab": {
          "base_uri": "https://localhost:8080/"
        },
        "id": "Mw2ETG0Bqwo3",
        "outputId": "53adbf12-1fed-4222-d826-88def2b3d5bd"
      },
      "execution_count": 8,
      "outputs": [
        {
          "output_type": "stream",
          "name": "stdout",
          "text": [
            "raj\n",
            "sam\n",
            "mohit\n"
          ]
        }
      ]
    },
    {
      "cell_type": "code",
      "source": [
        "print(a[0:])\n",
        "print(a[0:2])\n",
        "print(a[:2])\n",
        "print(a[:])"
      ],
      "metadata": {
        "colab": {
          "base_uri": "https://localhost:8080/"
        },
        "id": "M3k2SHnKviJt",
        "outputId": "b4d0335c-96cd-48c9-97e4-32fdd86fd9ee"
      },
      "execution_count": 9,
      "outputs": [
        {
          "output_type": "stream",
          "name": "stdout",
          "text": [
            "('raj', 'sam', 'mohit')\n",
            "('raj', 'sam')\n",
            "('raj', 'sam')\n",
            "('raj', 'sam', 'mohit')\n"
          ]
        }
      ]
    },
    {
      "cell_type": "markdown",
      "source": [
        "# **FUNCTIONS IN TUPLE**"
      ],
      "metadata": {
        "id": "w_KqRIfcwmyk"
      }
    },
    {
      "cell_type": "code",
      "source": [
        "# 1. Len()\n",
        "a=(1,2,3,4,5)\n",
        "print(len(a))"
      ],
      "metadata": {
        "colab": {
          "base_uri": "https://localhost:8080/"
        },
        "id": "as3LdvxGviF9",
        "outputId": "5630ddb0-a3fc-4337-f5c8-c1f3cae8ce91"
      },
      "execution_count": 11,
      "outputs": [
        {
          "output_type": "stream",
          "name": "stdout",
          "text": [
            "5\n"
          ]
        }
      ]
    },
    {
      "cell_type": "code",
      "source": [
        "# 2. index()\n",
        "a=(1,2,578,90)\n",
        "print(a.index(578))"
      ],
      "metadata": {
        "colab": {
          "base_uri": "https://localhost:8080/"
        },
        "id": "a7liIc5uviDc",
        "outputId": "0d961cae-9c08-4240-bbf1-d6dd1d6f3351"
      },
      "execution_count": 12,
      "outputs": [
        {
          "output_type": "stream",
          "name": "stdout",
          "text": [
            "2\n"
          ]
        }
      ]
    },
    {
      "cell_type": "code",
      "source": [
        "# 3. count()== It will return total frequency of object\n",
        "a=(1,2,2,2,2,2,3,4)\n",
        "print(a.count(2))"
      ],
      "metadata": {
        "colab": {
          "base_uri": "https://localhost:8080/"
        },
        "id": "Nh5icF75viBG",
        "outputId": "fc80abdc-bb52-47da-8120-95ed689ef940"
      },
      "execution_count": 13,
      "outputs": [
        {
          "output_type": "stream",
          "name": "stdout",
          "text": [
            "5\n"
          ]
        }
      ]
    },
    {
      "cell_type": "markdown",
      "source": [
        "# **How can we user defined tuple**"
      ],
      "metadata": {
        "id": "JbkXVl3gyP_g"
      }
    },
    {
      "cell_type": "code",
      "source": [
        "a=[]\n",
        "size = int(input(\"Enter item:\"))\n",
        "for i in range (size):\n",
        "  val = input(\"Enter value:\")\n",
        "  a.append(val)\n",
        "b=tuple(a)\n",
        "print(b)"
      ],
      "metadata": {
        "colab": {
          "base_uri": "https://localhost:8080/"
        },
        "id": "GiDVcEaPvh_7",
        "outputId": "b5177c1c-63ca-45c2-9894-020abf7480e6"
      },
      "execution_count": 15,
      "outputs": [
        {
          "output_type": "stream",
          "name": "stdout",
          "text": [
            "Enter item:2\n",
            "Enter value:njsdkfn\n",
            "Enter value:dnsfkd\n",
            "('njsdkfn', 'dnsfkd')\n"
          ]
        }
      ]
    },
    {
      "cell_type": "code",
      "source": [
        "a=[]\n",
        "size = int(input(\"Enter item:\"))\n",
        "for i in range (size):\n",
        "  val = int(input(\"Enter value:\"))\n",
        "  a.append(val)\n",
        "b=tuple(a)\n",
        "print(b)\n",
        "c=list(b)\n",
        "p=int(input(\"Enter Your index for updated:\"))\n",
        "c[p]=int(input(\"Enter updated value:\"))\n",
        "d=tuple(c)\n",
        "print(d)\n"
      ],
      "metadata": {
        "colab": {
          "base_uri": "https://localhost:8080/"
        },
        "id": "5p4yYzKsyHCm",
        "outputId": "7a900ab4-35e1-4a6c-e625-b3cefb2ce6be"
      },
      "execution_count": 19,
      "outputs": [
        {
          "output_type": "stream",
          "name": "stdout",
          "text": [
            "Enter item:4\n",
            "Enter value:215\n",
            "Enter value:326\n",
            "Enter value:2631\n",
            "Enter value:323\n",
            "(215, 326, 2631, 323)\n",
            "Enter Your index for updated:2\n",
            "Enter updated value:26215\n",
            "(215, 326, 26215, 323)\n"
          ]
        }
      ]
    },
    {
      "cell_type": "markdown",
      "source": [
        "# **Dictionary in Python**"
      ],
      "metadata": {
        "id": "SfYwewFEUR86"
      }
    },
    {
      "cell_type": "code",
      "source": [
        "# 1. Identification ={key:value , key:value......}\n",
        "# 2. Mutable Datatype = We can change or update at a run time.\n",
        "# 3. Elements are seaprated by commas"
      ],
      "metadata": {
        "id": "sDxTaraLvh9T"
      },
      "execution_count": 1,
      "outputs": []
    },
    {
      "cell_type": "code",
      "source": [
        "a={'brand':'Mahindra','Model':'Scorpio','Year':2022}\n",
        "type(a)"
      ],
      "metadata": {
        "colab": {
          "base_uri": "https://localhost:8080/"
        },
        "id": "QpoT428XyGx3",
        "outputId": "1edd0a9f-c843-4dda-d87b-8d36425dc108"
      },
      "execution_count": 2,
      "outputs": [
        {
          "output_type": "execute_result",
          "data": {
            "text/plain": [
              "dict"
            ]
          },
          "metadata": {},
          "execution_count": 2
        }
      ]
    },
    {
      "cell_type": "code",
      "source": [
        "for i in a.keys():\n",
        "  print(i)"
      ],
      "metadata": {
        "colab": {
          "base_uri": "https://localhost:8080/"
        },
        "id": "J-jGXCHeyGub",
        "outputId": "9a541ea5-c881-4748-9f41-c3091770296d"
      },
      "execution_count": 4,
      "outputs": [
        {
          "output_type": "stream",
          "name": "stdout",
          "text": [
            "brand\n",
            "Model\n",
            "Year\n"
          ]
        }
      ]
    },
    {
      "cell_type": "code",
      "source": [
        "for i in a.values():\n",
        "  print(i)"
      ],
      "metadata": {
        "colab": {
          "base_uri": "https://localhost:8080/"
        },
        "id": "vPOz3669yGr2",
        "outputId": "c30c181b-c9eb-49f5-dc6f-dd979a3eaabd"
      },
      "execution_count": 5,
      "outputs": [
        {
          "output_type": "stream",
          "name": "stdout",
          "text": [
            "Mahindra\n",
            "Scorpio\n",
            "2022\n"
          ]
        }
      ]
    },
    {
      "cell_type": "code",
      "source": [
        "for x,y in a.items():\n",
        "  print(x,y)"
      ],
      "metadata": {
        "colab": {
          "base_uri": "https://localhost:8080/"
        },
        "id": "2kMab1NdyGpq",
        "outputId": "95e4339c-b040-49af-a0e1-07c0471092b0"
      },
      "execution_count": 9,
      "outputs": [
        {
          "output_type": "stream",
          "name": "stdout",
          "text": [
            "brand Mahindra\n",
            "Model Scorpio\n",
            "Year 2022\n"
          ]
        }
      ]
    },
    {
      "cell_type": "code",
      "source": [
        "a['Year']=2025"
      ],
      "metadata": {
        "id": "3C9MrR9-yGnH"
      },
      "execution_count": 10,
      "outputs": []
    },
    {
      "cell_type": "code",
      "source": [
        "a"
      ],
      "metadata": {
        "colab": {
          "base_uri": "https://localhost:8080/"
        },
        "id": "ZiaGqHsjyGkb",
        "outputId": "20bc2ada-245d-41ac-bb48-80dc2737be36"
      },
      "execution_count": 11,
      "outputs": [
        {
          "output_type": "execute_result",
          "data": {
            "text/plain": [
              "{'brand': 'Mahindra', 'Model': 'Scorpio', 'Year': 2025}"
            ]
          },
          "metadata": {},
          "execution_count": 11
        }
      ]
    },
    {
      "cell_type": "code",
      "source": [
        "a['year']=2026"
      ],
      "metadata": {
        "id": "yI9Ta5L-V9P_"
      },
      "execution_count": 12,
      "outputs": []
    },
    {
      "cell_type": "code",
      "source": [
        "a"
      ],
      "metadata": {
        "colab": {
          "base_uri": "https://localhost:8080/"
        },
        "id": "VilfobDeV9L7",
        "outputId": "f27bf2f9-d193-4242-9fd2-40fcd69584c6"
      },
      "execution_count": 13,
      "outputs": [
        {
          "output_type": "execute_result",
          "data": {
            "text/plain": [
              "{'brand': 'Mahindra', 'Model': 'Scorpio', 'Year': 2025, 'year': 2026}"
            ]
          },
          "metadata": {},
          "execution_count": 13
        }
      ]
    },
    {
      "cell_type": "markdown",
      "source": [
        "# ***FUNCTIONS IN DICTIONARY***"
      ],
      "metadata": {
        "id": "ikphQieqWtjl"
      }
    },
    {
      "cell_type": "code",
      "source": [
        "# 1.Len()\n",
        "len(a)"
      ],
      "metadata": {
        "colab": {
          "base_uri": "https://localhost:8080/"
        },
        "id": "qVzepILHV9Ie",
        "outputId": "4086efcb-92c3-4a63-c392-09b3e3ff1713"
      },
      "execution_count": 18,
      "outputs": [
        {
          "output_type": "execute_result",
          "data": {
            "text/plain": [
              "3"
            ]
          },
          "metadata": {},
          "execution_count": 18
        }
      ]
    },
    {
      "cell_type": "code",
      "source": [
        "# 2. pop()\n",
        "print(a)\n",
        "a.pop('year')\n",
        "print(a)"
      ],
      "metadata": {
        "colab": {
          "base_uri": "https://localhost:8080/",
          "height": 211
        },
        "id": "GDj8TISbV9Fd",
        "outputId": "387af082-8057-43a4-c7c1-2b5ee5eff0e8"
      },
      "execution_count": 19,
      "outputs": [
        {
          "output_type": "stream",
          "name": "stdout",
          "text": [
            "{'brand': 'Mahindra', 'Model': 'Scorpio', 'Year': 2025}\n"
          ]
        },
        {
          "output_type": "error",
          "ename": "KeyError",
          "evalue": "'year'",
          "traceback": [
            "\u001b[0;31m---------------------------------------------------------------------------\u001b[0m",
            "\u001b[0;31mKeyError\u001b[0m                                  Traceback (most recent call last)",
            "\u001b[0;32m<ipython-input-19-19ba840b2c27>\u001b[0m in \u001b[0;36m<cell line: 3>\u001b[0;34m()\u001b[0m\n\u001b[1;32m      1\u001b[0m \u001b[0;31m# 2. pop()\u001b[0m\u001b[0;34m\u001b[0m\u001b[0;34m\u001b[0m\u001b[0m\n\u001b[1;32m      2\u001b[0m \u001b[0mprint\u001b[0m\u001b[0;34m(\u001b[0m\u001b[0ma\u001b[0m\u001b[0;34m)\u001b[0m\u001b[0;34m\u001b[0m\u001b[0;34m\u001b[0m\u001b[0m\n\u001b[0;32m----> 3\u001b[0;31m \u001b[0ma\u001b[0m\u001b[0;34m.\u001b[0m\u001b[0mpop\u001b[0m\u001b[0;34m(\u001b[0m\u001b[0;34m'year'\u001b[0m\u001b[0;34m)\u001b[0m\u001b[0;34m\u001b[0m\u001b[0;34m\u001b[0m\u001b[0m\n\u001b[0m\u001b[1;32m      4\u001b[0m \u001b[0mprint\u001b[0m\u001b[0;34m(\u001b[0m\u001b[0ma\u001b[0m\u001b[0;34m)\u001b[0m\u001b[0;34m\u001b[0m\u001b[0;34m\u001b[0m\u001b[0m\n",
            "\u001b[0;31mKeyError\u001b[0m: 'year'"
          ]
        }
      ]
    },
    {
      "cell_type": "code",
      "source": [
        "# 3. popitem()\n",
        "a={'brand':'Mahindra','Model':'Scorpio','Year':2022}\n",
        "print(a)\n",
        "a.popitem()\n",
        "print(a)\n",
        "a.popitem()\n",
        "print(a)\n"
      ],
      "metadata": {
        "colab": {
          "base_uri": "https://localhost:8080/"
        },
        "id": "O9ipKEttV9CA",
        "outputId": "29fff9a1-360b-4271-e55b-6e3386334dd8"
      },
      "execution_count": 22,
      "outputs": [
        {
          "output_type": "stream",
          "name": "stdout",
          "text": [
            "{'brand': 'Mahindra', 'Model': 'Scorpio', 'Year': 2022}\n",
            "{'brand': 'Mahindra', 'Model': 'Scorpio'}\n",
            "{'brand': 'Mahindra'}\n"
          ]
        }
      ]
    },
    {
      "cell_type": "code",
      "source": [
        "# 4. del\n",
        "a={'brand':'Mahindra','Model':'Scorpio','Year':2022}\n",
        "print(a)\n",
        "del a\n",
        "print(a)"
      ],
      "metadata": {
        "colab": {
          "base_uri": "https://localhost:8080/",
          "height": 193
        },
        "id": "znENuwBlW7x5",
        "outputId": "1cda16a4-bca1-43a6-d15e-b84597655893"
      },
      "execution_count": 23,
      "outputs": [
        {
          "output_type": "stream",
          "name": "stdout",
          "text": [
            "{'brand': 'Mahindra', 'Model': 'Scorpio', 'Year': 2022}\n"
          ]
        },
        {
          "output_type": "error",
          "ename": "NameError",
          "evalue": "name 'a' is not defined",
          "traceback": [
            "\u001b[0;31m---------------------------------------------------------------------------\u001b[0m",
            "\u001b[0;31mNameError\u001b[0m                                 Traceback (most recent call last)",
            "\u001b[0;32m<ipython-input-23-c4d5a8e2e9de>\u001b[0m in \u001b[0;36m<cell line: 5>\u001b[0;34m()\u001b[0m\n\u001b[1;32m      3\u001b[0m \u001b[0mprint\u001b[0m\u001b[0;34m(\u001b[0m\u001b[0ma\u001b[0m\u001b[0;34m)\u001b[0m\u001b[0;34m\u001b[0m\u001b[0;34m\u001b[0m\u001b[0m\n\u001b[1;32m      4\u001b[0m \u001b[0;32mdel\u001b[0m \u001b[0ma\u001b[0m\u001b[0;34m\u001b[0m\u001b[0;34m\u001b[0m\u001b[0m\n\u001b[0;32m----> 5\u001b[0;31m \u001b[0mprint\u001b[0m\u001b[0;34m(\u001b[0m\u001b[0ma\u001b[0m\u001b[0;34m)\u001b[0m\u001b[0;34m\u001b[0m\u001b[0;34m\u001b[0m\u001b[0m\n\u001b[0m",
            "\u001b[0;31mNameError\u001b[0m: name 'a' is not defined"
          ]
        }
      ]
    },
    {
      "cell_type": "code",
      "source": [
        "# 5. clear()\n",
        "a={'brand':'Mahindra','Model':'Scorpio','Year':2022}\n",
        "a.clear()\n",
        "a"
      ],
      "metadata": {
        "colab": {
          "base_uri": "https://localhost:8080/"
        },
        "id": "icy1oa6-W7uT",
        "outputId": "d8c9f98a-9f40-47c0-a03d-a14b61a94316"
      },
      "execution_count": 24,
      "outputs": [
        {
          "output_type": "execute_result",
          "data": {
            "text/plain": [
              "{}"
            ]
          },
          "metadata": {},
          "execution_count": 24
        }
      ]
    },
    {
      "cell_type": "markdown",
      "source": [
        "# ***SETS IN PYTHON***"
      ],
      "metadata": {
        "id": "8v2ziPucYLnk"
      }
    },
    {
      "cell_type": "code",
      "source": [
        "# 1. Identification={}\n",
        "# 2. Mutable, Unordered, Unindexed\n",
        "# 3. It will not accept duplicate values"
      ],
      "metadata": {
        "id": "MvrsorVyW7rb"
      },
      "execution_count": 25,
      "outputs": []
    },
    {
      "cell_type": "code",
      "source": [
        "a={'a','b','a','a','c'}\n",
        "print(a)"
      ],
      "metadata": {
        "colab": {
          "base_uri": "https://localhost:8080/"
        },
        "id": "uAVZpSnKW7pC",
        "outputId": "409c680f-f667-4cb2-d1ae-82fcb5b17d7e"
      },
      "execution_count": 29,
      "outputs": [
        {
          "output_type": "stream",
          "name": "stdout",
          "text": [
            "{'a', 'b', 'c'}\n"
          ]
        }
      ]
    },
    {
      "cell_type": "code",
      "source": [
        "type(a)"
      ],
      "metadata": {
        "colab": {
          "base_uri": "https://localhost:8080/"
        },
        "id": "7PFwjwftW7lN",
        "outputId": "791d47a5-7acb-4fd9-9ccc-ba8eacedfc4d"
      },
      "execution_count": 28,
      "outputs": [
        {
          "output_type": "execute_result",
          "data": {
            "text/plain": [
              "set"
            ]
          },
          "metadata": {},
          "execution_count": 28
        }
      ]
    },
    {
      "cell_type": "code",
      "source": [
        "## Mutable\n",
        "a={'a','b','a','a','c'}\n",
        "a.add('d')\n",
        "print(a)"
      ],
      "metadata": {
        "colab": {
          "base_uri": "https://localhost:8080/"
        },
        "id": "ryd2smvjW7i8",
        "outputId": "7b418a88-7eaf-423b-ef5e-b0064ee2ad78"
      },
      "execution_count": 30,
      "outputs": [
        {
          "output_type": "stream",
          "name": "stdout",
          "text": [
            "{'a', 'd', 'b', 'c'}\n"
          ]
        }
      ]
    },
    {
      "cell_type": "code",
      "source": [
        "a.remove('d')\n",
        "a"
      ],
      "metadata": {
        "colab": {
          "base_uri": "https://localhost:8080/"
        },
        "id": "RZue44n_W7hV",
        "outputId": "0132d5b9-27ae-406f-c4ef-bed0a5786842"
      },
      "execution_count": 31,
      "outputs": [
        {
          "output_type": "execute_result",
          "data": {
            "text/plain": [
              "{'a', 'b', 'c'}"
            ]
          },
          "metadata": {},
          "execution_count": 31
        }
      ]
    },
    {
      "cell_type": "markdown",
      "source": [
        "# **LOOPS IN SETS**"
      ],
      "metadata": {
        "id": "l3vg68TlZHso"
      }
    },
    {
      "cell_type": "code",
      "source": [
        "for i in a:\n",
        "  print(i)"
      ],
      "metadata": {
        "colab": {
          "base_uri": "https://localhost:8080/"
        },
        "id": "dxFAc9HQW7fF",
        "outputId": "b94bff88-f581-43bd-ee96-6501f48130e5"
      },
      "execution_count": 32,
      "outputs": [
        {
          "output_type": "stream",
          "name": "stdout",
          "text": [
            "a\n",
            "b\n",
            "c\n"
          ]
        }
      ]
    },
    {
      "cell_type": "markdown",
      "source": [
        "# OPERATIONS OF SETS"
      ],
      "metadata": {
        "id": "YEfSglX1ZXrZ"
      }
    },
    {
      "cell_type": "code",
      "source": [
        "# 1. Union()\n",
        "a={1,2,3,4}\n",
        "b={3,4,5,6}\n",
        "c=a.union(b)\n",
        "c"
      ],
      "metadata": {
        "id": "E_FsR1KhW7aX"
      },
      "execution_count": null,
      "outputs": []
    },
    {
      "cell_type": "code",
      "source": [
        "# 2. Intersection()\n",
        "a={1,2,3,4}\n",
        "b={3,4,5,6}\n",
        "c=a.intersection(b)\n",
        "c"
      ],
      "metadata": {
        "id": "YhhamWZeW7XZ"
      },
      "execution_count": null,
      "outputs": []
    },
    {
      "cell_type": "code",
      "source": [
        "# 3.\n",
        "a-b"
      ],
      "metadata": {
        "id": "Jcm8Iy0wyGgM"
      },
      "execution_count": null,
      "outputs": []
    },
    {
      "cell_type": "code",
      "source": [],
      "metadata": {
        "id": "qxexP_ucZlQh"
      },
      "execution_count": null,
      "outputs": []
    },
    {
      "cell_type": "code",
      "source": [],
      "metadata": {
        "id": "lgeU5L90ZlOq"
      },
      "execution_count": null,
      "outputs": []
    },
    {
      "cell_type": "code",
      "source": [],
      "metadata": {
        "id": "lOJb_V7RZlMV"
      },
      "execution_count": null,
      "outputs": []
    },
    {
      "cell_type": "code",
      "source": [],
      "metadata": {
        "id": "smOajMGsZlIH"
      },
      "execution_count": null,
      "outputs": []
    },
    {
      "cell_type": "code",
      "source": [],
      "metadata": {
        "id": "q6a5ojYkZlD_"
      },
      "execution_count": null,
      "outputs": []
    },
    {
      "cell_type": "code",
      "source": [],
      "metadata": {
        "id": "inUKlAqoZlBu"
      },
      "execution_count": null,
      "outputs": []
    },
    {
      "cell_type": "code",
      "source": [],
      "metadata": {
        "id": "_CXerhJDZk-b"
      },
      "execution_count": null,
      "outputs": []
    },
    {
      "cell_type": "code",
      "source": [],
      "metadata": {
        "id": "bONKvwv3Zk7E"
      },
      "execution_count": null,
      "outputs": []
    },
    {
      "cell_type": "code",
      "source": [],
      "metadata": {
        "id": "fH6tPIX8Zk3Z"
      },
      "execution_count": null,
      "outputs": []
    }
  ]
}