{
  "nbformat": 4,
  "nbformat_minor": 0,
  "metadata": {
    "colab": {
      "provenance": []
    },
    "kernelspec": {
      "name": "python3",
      "display_name": "Python 3"
    },
    "language_info": {
      "name": "python"
    }
  },
  "cells": [
    {
      "cell_type": "markdown",
      "source": [
        "## **Numpy**"
      ],
      "metadata": {
        "id": "i150yGufpJwV"
      }
    },
    {
      "cell_type": "code",
      "execution_count": null,
      "metadata": {
        "id": "CUjJhNhqoyh7"
      },
      "outputs": [],
      "source": [
        "import numpy as np"
      ]
    },
    {
      "cell_type": "code",
      "source": [
        "a=[1,2,3,4,5]\n",
        "b=np.array(a)\n",
        "b"
      ],
      "metadata": {
        "colab": {
          "base_uri": "https://localhost:8080/"
        },
        "id": "qUiXW1Veo4RH",
        "outputId": "d2a78487-5ace-4fae-a88f-b3361a6653cb"
      },
      "execution_count": null,
      "outputs": [
        {
          "output_type": "execute_result",
          "data": {
            "text/plain": [
              "array([1, 2, 3, 4, 5])"
            ]
          },
          "metadata": {},
          "execution_count": 3
        }
      ]
    },
    {
      "cell_type": "code",
      "source": [
        "type(b)"
      ],
      "metadata": {
        "colab": {
          "base_uri": "https://localhost:8080/"
        },
        "id": "uTXcC-MZpxV7",
        "outputId": "1d6c4c5b-33be-4fb2-fc47-85bf02c50c58"
      },
      "execution_count": null,
      "outputs": [
        {
          "output_type": "execute_result",
          "data": {
            "text/plain": [
              "numpy.ndarray"
            ]
          },
          "metadata": {},
          "execution_count": 4
        }
      ]
    },
    {
      "cell_type": "code",
      "source": [
        "a=[]\n",
        "size=int(input(\"Enter size of array:\"))\n",
        "for i in range(size):\n",
        "  val=int(input(\"Enter number:\"))\n",
        "  a.append(val)\n",
        "print()\n",
        "b=np.array(a)\n",
        "b"
      ],
      "metadata": {
        "colab": {
          "base_uri": "https://localhost:8080/"
        },
        "id": "WkPOWPsCp0tK",
        "outputId": "f290b36e-eff2-4626-cf5b-a3ee256e91aa"
      },
      "execution_count": null,
      "outputs": [
        {
          "output_type": "stream",
          "name": "stdout",
          "text": [
            "Enter size of array:5\n",
            "Enter number:65\n",
            "Enter number:21\n",
            "Enter number:95\n",
            "Enter number:2\n",
            "Enter number:32\n",
            "\n"
          ]
        },
        {
          "output_type": "execute_result",
          "data": {
            "text/plain": [
              "array([65, 21, 95,  2, 32])"
            ]
          },
          "metadata": {},
          "execution_count": 6
        }
      ]
    },
    {
      "cell_type": "markdown",
      "source": [
        "# **Two Dimensional Array**"
      ],
      "metadata": {
        "id": "17Uapms0q-Pc"
      }
    },
    {
      "cell_type": "code",
      "source": [
        "a=[[1,2,3],[4,5,6],[7,8,9]]\n",
        "b=np.array(a)\n",
        "b"
      ],
      "metadata": {
        "colab": {
          "base_uri": "https://localhost:8080/"
        },
        "id": "xv2ABBOTquGf",
        "outputId": "f1dc93c4-980c-420d-e903-f5604b6d6e50"
      },
      "execution_count": null,
      "outputs": [
        {
          "output_type": "execute_result",
          "data": {
            "text/plain": [
              "array([[1, 2, 3],\n",
              "       [4, 5, 6],\n",
              "       [7, 8, 9]])"
            ]
          },
          "metadata": {},
          "execution_count": 8
        }
      ]
    },
    {
      "cell_type": "code",
      "source": [
        "print(\"Total Dimension:\",b.ndim )\n",
        "print(\"Shape of an array\",b.shape )\n",
        "print(\"Total Elements:\",b.size )"
      ],
      "metadata": {
        "colab": {
          "base_uri": "https://localhost:8080/"
        },
        "id": "QjEoA3vArLTh",
        "outputId": "19e70357-565e-4971-eabd-62f88b186042"
      },
      "execution_count": null,
      "outputs": [
        {
          "output_type": "stream",
          "name": "stdout",
          "text": [
            "Total Dimension: 2\n",
            "Shape of an array (3, 3)\n",
            "Total Elements: 9\n"
          ]
        }
      ]
    },
    {
      "cell_type": "markdown",
      "source": [
        "# **How to check size and dimension of an array**"
      ],
      "metadata": {
        "id": "kQbwHrF0r45J"
      }
    },
    {
      "cell_type": "code",
      "source": [],
      "metadata": {
        "id": "JTlKc6iFrdP7"
      },
      "execution_count": null,
      "outputs": []
    },
    {
      "cell_type": "markdown",
      "source": [
        "# **NUMPY FUNCTIONS**"
      ],
      "metadata": {
        "id": "jsgzEXUwtB1q"
      }
    },
    {
      "cell_type": "markdown",
      "source": [
        "# **1. Zeroes ==> /this function creates an array(either one dimensional or multi dimensional ) and fill all the values with zeroes**"
      ],
      "metadata": {
        "id": "SBY8pIFOtJZF"
      }
    },
    {
      "cell_type": "code",
      "source": [
        "a=np.zeros(3)\n",
        "a"
      ],
      "metadata": {
        "colab": {
          "base_uri": "https://localhost:8080/"
        },
        "id": "f2iyMhJXtHOm",
        "outputId": "295f8335-56b2-4c68-b04b-152c92d8e6cd"
      },
      "execution_count": null,
      "outputs": [
        {
          "output_type": "execute_result",
          "data": {
            "text/plain": [
              "array([0., 0., 0.])"
            ]
          },
          "metadata": {},
          "execution_count": 12
        }
      ]
    },
    {
      "cell_type": "code",
      "source": [
        "b=np.zeros((2,3))\n",
        "b"
      ],
      "metadata": {
        "colab": {
          "base_uri": "https://localhost:8080/"
        },
        "id": "JbdikdC2teif",
        "outputId": "af83d79b-52be-4198-c7f8-9b85c8afb82e"
      },
      "execution_count": null,
      "outputs": [
        {
          "output_type": "execute_result",
          "data": {
            "text/plain": [
              "array([[0., 0., 0.],\n",
              "       [0., 0., 0.]])"
            ]
          },
          "metadata": {},
          "execution_count": 14
        }
      ]
    },
    {
      "cell_type": "code",
      "source": [
        "b.ndim"
      ],
      "metadata": {
        "colab": {
          "base_uri": "https://localhost:8080/"
        },
        "id": "dieg84Wttm2H",
        "outputId": "aee7110c-9eac-4419-ff21-3e6d0c9a5d1b"
      },
      "execution_count": null,
      "outputs": [
        {
          "output_type": "execute_result",
          "data": {
            "text/plain": [
              "2"
            ]
          },
          "metadata": {},
          "execution_count": 15
        }
      ]
    },
    {
      "cell_type": "code",
      "source": [
        "a.ndim"
      ],
      "metadata": {
        "colab": {
          "base_uri": "https://localhost:8080/"
        },
        "id": "nfmzEjebtpPH",
        "outputId": "e24b31a0-baa4-45a2-f3be-37818d6dd1d2"
      },
      "execution_count": null,
      "outputs": [
        {
          "output_type": "execute_result",
          "data": {
            "text/plain": [
              "1"
            ]
          },
          "metadata": {},
          "execution_count": 16
        }
      ]
    },
    {
      "cell_type": "markdown",
      "source": [
        "# **2. Ones ==> This function creates an array (either one dimensional or multi dimensional) and fill all the values with one**"
      ],
      "metadata": {
        "id": "X62Qbg6pt2yn"
      }
    },
    {
      "cell_type": "code",
      "source": [
        "a=np.ones(5)\n",
        "a"
      ],
      "metadata": {
        "colab": {
          "base_uri": "https://localhost:8080/"
        },
        "id": "tt2lptHgtqnu",
        "outputId": "da1dab13-652b-4786-984e-93ca22cac016"
      },
      "execution_count": null,
      "outputs": [
        {
          "output_type": "execute_result",
          "data": {
            "text/plain": [
              "array([1., 1., 1., 1., 1.])"
            ]
          },
          "metadata": {},
          "execution_count": 17
        }
      ]
    },
    {
      "cell_type": "code",
      "source": [
        "b=np.ones((2,3))\n",
        "b"
      ],
      "metadata": {
        "colab": {
          "base_uri": "https://localhost:8080/"
        },
        "id": "b3_MRDubtscR",
        "outputId": "63481457-8da3-401f-bc59-fe8c53698f57"
      },
      "execution_count": null,
      "outputs": [
        {
          "output_type": "execute_result",
          "data": {
            "text/plain": [
              "array([[1., 1., 1.],\n",
              "       [1., 1., 1.]])"
            ]
          },
          "metadata": {},
          "execution_count": 18
        }
      ]
    },
    {
      "cell_type": "markdown",
      "source": [
        "# **3. Eye ==> This funciton creates an array with all the diagonal elements as 1 and rest are 0(in square matrix).In non square matrix the value are still one diagonal(upto which it can draw diagonal) and rest are zero.**"
      ],
      "metadata": {
        "id": "wtjmnG1kuLyW"
      }
    },
    {
      "cell_type": "code",
      "source": [
        "a=np.array(3)\n",
        "a"
      ],
      "metadata": {
        "colab": {
          "base_uri": "https://localhost:8080/"
        },
        "id": "9LbiC5mutsYs",
        "outputId": "23fb15ec-c8bd-4e1f-8f5f-0f7be653965c"
      },
      "execution_count": null,
      "outputs": [
        {
          "output_type": "execute_result",
          "data": {
            "text/plain": [
              "array(3)"
            ]
          },
          "metadata": {},
          "execution_count": 20
        }
      ]
    },
    {
      "cell_type": "code",
      "source": [
        "b=np.eye(3,4)\n",
        "b"
      ],
      "metadata": {
        "colab": {
          "base_uri": "https://localhost:8080/"
        },
        "id": "ZEFFMuBZtsWK",
        "outputId": "e46e646d-f4bd-448a-aac5-89004a5398f1"
      },
      "execution_count": null,
      "outputs": [
        {
          "output_type": "execute_result",
          "data": {
            "text/plain": [
              "array([[1., 0., 0., 0.],\n",
              "       [0., 1., 0., 0.],\n",
              "       [0., 0., 1., 0.]])"
            ]
          },
          "metadata": {},
          "execution_count": 21
        }
      ]
    },
    {
      "cell_type": "markdown",
      "source": [
        "# **4. diag ==> This function creates a two dimensional array with all the diagonal elements as the given value and rest are zero.**"
      ],
      "metadata": {
        "id": "yKMjXl3XvVC0"
      }
    },
    {
      "cell_type": "code",
      "source": [
        "a= np.diag([1,4,8,9])\n",
        "a"
      ],
      "metadata": {
        "colab": {
          "base_uri": "https://localhost:8080/"
        },
        "id": "3J5r5N8VtsSh",
        "outputId": "7e0c2a26-cba0-4b4a-95b7-65f6db63fafb"
      },
      "execution_count": null,
      "outputs": [
        {
          "output_type": "execute_result",
          "data": {
            "text/plain": [
              "array([[1, 0, 0, 0],\n",
              "       [0, 4, 0, 0],\n",
              "       [0, 0, 8, 0],\n",
              "       [0, 0, 0, 9]])"
            ]
          },
          "metadata": {},
          "execution_count": 22
        }
      ]
    },
    {
      "cell_type": "markdown",
      "source": [
        "# **5. randint ==> This function is used to generate a random number between a given range.**\n",
        "\n",
        "# **SYNTAX == randint( min_value, max_value,total_numbers)**\n",
        "\n"
      ],
      "metadata": {
        "id": "Pb0ssOAQwDae"
      }
    },
    {
      "cell_type": "code",
      "source": [
        "a=np.random.randint(1,10,3)\n",
        "a"
      ],
      "metadata": {
        "colab": {
          "base_uri": "https://localhost:8080/"
        },
        "id": "j6jiB0DntsPL",
        "outputId": "dcd7fdc6-45bd-48b1-b059-2c39d3abee91"
      },
      "execution_count": null,
      "outputs": [
        {
          "output_type": "execute_result",
          "data": {
            "text/plain": [
              "array([4, 5, 1])"
            ]
          },
          "metadata": {},
          "execution_count": 23
        }
      ]
    },
    {
      "cell_type": "markdown",
      "source": [
        "# **rand ==> This function is used to generate a random number between 0 an 1.**\n",
        "\n",
        "# **SYNTAX == rand(number of values)**"
      ],
      "metadata": {
        "id": "FmHkNNiAwuUG"
      }
    },
    {
      "cell_type": "code",
      "source": [
        "a= np.random.rand(5)\n",
        "a"
      ],
      "metadata": {
        "colab": {
          "base_uri": "https://localhost:8080/"
        },
        "id": "LT4mASgwtsMr",
        "outputId": "07bc1b1c-79f2-43e2-a1c1-f364674f650d"
      },
      "execution_count": null,
      "outputs": [
        {
          "output_type": "execute_result",
          "data": {
            "text/plain": [
              "array([0.40269842, 0.76738251, 0.33240009, 0.34272742, 0.28282104])"
            ]
          },
          "metadata": {},
          "execution_count": 24
        }
      ]
    },
    {
      "cell_type": "markdown",
      "source": [
        "# **7. randn ==> This function is used to generate a random number from -3 to 3. This may return positive and negative number as well.**\n",
        "\n",
        "# **SYNTAX == random.randn(number of values)**"
      ],
      "metadata": {
        "id": "CAvOPT8sx1z8"
      }
    },
    {
      "cell_type": "code",
      "source": [
        "a= np.random.randn(5)\n",
        "a"
      ],
      "metadata": {
        "colab": {
          "base_uri": "https://localhost:8080/"
        },
        "id": "x_xQX5OHtsKf",
        "outputId": "ac48fe25-dab1-48f1-df1b-de96478a0c1d"
      },
      "execution_count": null,
      "outputs": [
        {
          "output_type": "execute_result",
          "data": {
            "text/plain": [
              "array([ 0.91252363,  0.12709524,  0.22261089, -1.21237439,  1.13255799])"
            ]
          },
          "metadata": {},
          "execution_count": 25
        }
      ]
    },
    {
      "cell_type": "markdown",
      "source": [
        "# **Reshaping Data**"
      ],
      "metadata": {
        "id": "A3jT7kWyzMSl"
      }
    },
    {
      "cell_type": "code",
      "source": [
        "# n(rows) * n(columns) = n(total_elements) ===> condition always true"
      ],
      "metadata": {
        "id": "4RKVAgvozdG5"
      },
      "execution_count": null,
      "outputs": []
    },
    {
      "cell_type": "code",
      "source": [
        "a= np.random.randint(1,50,12)\n",
        "a"
      ],
      "metadata": {
        "colab": {
          "base_uri": "https://localhost:8080/"
        },
        "id": "EwF65rlJyTEZ",
        "outputId": "9804f2e8-623c-4a91-f683-96a34271df47"
      },
      "execution_count": null,
      "outputs": [
        {
          "output_type": "execute_result",
          "data": {
            "text/plain": [
              "array([44, 46, 44, 36, 28, 34, 24, 28,  2, 21, 25,  2])"
            ]
          },
          "metadata": {},
          "execution_count": 26
        }
      ]
    },
    {
      "cell_type": "code",
      "source": [
        "# n(rows) * n(columns) = n(total_elements)"
      ],
      "metadata": {
        "id": "grgJsYh-zq6x"
      },
      "execution_count": null,
      "outputs": []
    },
    {
      "cell_type": "code",
      "source": [
        "a.shape"
      ],
      "metadata": {
        "colab": {
          "base_uri": "https://localhost:8080/"
        },
        "id": "MfL2PfHfyW91",
        "outputId": "2ac3b575-648d-4205-c1cc-d855211ce767"
      },
      "execution_count": null,
      "outputs": [
        {
          "output_type": "execute_result",
          "data": {
            "text/plain": [
              "(12,)"
            ]
          },
          "metadata": {},
          "execution_count": 27
        }
      ]
    },
    {
      "cell_type": "code",
      "source": [
        "a.reshape(2,6)"
      ],
      "metadata": {
        "colab": {
          "base_uri": "https://localhost:8080/"
        },
        "id": "7zJgm4M0yW6S",
        "outputId": "b574f009-abf9-4667-856a-5803990d2e46"
      },
      "execution_count": null,
      "outputs": [
        {
          "output_type": "execute_result",
          "data": {
            "text/plain": [
              "array([[44, 46, 44, 36, 28, 34],\n",
              "       [24, 28,  2, 21, 25,  2]])"
            ]
          },
          "metadata": {},
          "execution_count": 30
        }
      ]
    },
    {
      "cell_type": "code",
      "source": [
        "a.reshape(6,2)"
      ],
      "metadata": {
        "colab": {
          "base_uri": "https://localhost:8080/"
        },
        "id": "oYw-j7G-yW0U",
        "outputId": "54b190de-0456-4c5e-fb3d-40a8c82a64e1"
      },
      "execution_count": null,
      "outputs": [
        {
          "output_type": "execute_result",
          "data": {
            "text/plain": [
              "array([[44, 46],\n",
              "       [44, 36],\n",
              "       [28, 34],\n",
              "       [24, 28],\n",
              "       [ 2, 21],\n",
              "       [25,  2]])"
            ]
          },
          "metadata": {},
          "execution_count": 31
        }
      ]
    },
    {
      "cell_type": "code",
      "source": [
        "a.reshape(3,4)"
      ],
      "metadata": {
        "colab": {
          "base_uri": "https://localhost:8080/"
        },
        "id": "GEdJIaGTyWvW",
        "outputId": "49f8dd50-fa48-446c-cd65-0cf1eba726d9"
      },
      "execution_count": null,
      "outputs": [
        {
          "output_type": "execute_result",
          "data": {
            "text/plain": [
              "array([[44, 46, 44, 36],\n",
              "       [28, 34, 24, 28],\n",
              "       [ 2, 21, 25,  2]])"
            ]
          },
          "metadata": {},
          "execution_count": 32
        }
      ]
    },
    {
      "cell_type": "markdown",
      "source": [
        "# **Seed Function() ===> we know that randint function generates random numbers. Everytime we run the program , new set of random number is generated. So, solve this problem we will use seed function.**"
      ],
      "metadata": {
        "id": "W75I2ThP1ykH"
      }
    },
    {
      "cell_type": "code",
      "source": [
        "np.random.seed(20)\n",
        "a=np.random.randint(1,100,10)\n",
        "a"
      ],
      "metadata": {
        "id": "ZnAWEdE0yWqL",
        "colab": {
          "base_uri": "https://localhost:8080/"
        },
        "outputId": "40927123-a499-4e58-a9e8-0bff8898fca8"
      },
      "execution_count": 33,
      "outputs": [
        {
          "output_type": "execute_result",
          "data": {
            "text/plain": [
              "array([91, 16, 96, 29, 91, 10, 21, 76, 23, 72])"
            ]
          },
          "metadata": {},
          "execution_count": 33
        }
      ]
    },
    {
      "cell_type": "markdown",
      "source": [
        "# **View Vs Copy ==>When we slice a sub-array from an array, it may be done by two ways**"
      ],
      "metadata": {
        "id": "E-GfJr6O3GEK"
      }
    },
    {
      "cell_type": "code",
      "source": [
        "a=np.array([10,20,30,40,50,60,70,80])\n",
        "b=a[3:6]\n",
        "b[:]=0\n",
        "a"
      ],
      "metadata": {
        "id": "xsY8T25EyWcp",
        "colab": {
          "base_uri": "https://localhost:8080/"
        },
        "outputId": "2f05a8c5-d554-46fc-abfa-ff981f7c87b0"
      },
      "execution_count": 35,
      "outputs": [
        {
          "output_type": "execute_result",
          "data": {
            "text/plain": [
              "array([10, 20, 30,  0,  0,  0, 70, 80])"
            ]
          },
          "metadata": {},
          "execution_count": 35
        }
      ]
    },
    {
      "cell_type": "code",
      "source": [
        "b"
      ],
      "metadata": {
        "colab": {
          "base_uri": "https://localhost:8080/"
        },
        "id": "LArrK1h737-o",
        "outputId": "f3dd2b8c-525c-423a-dbdc-aad2fb6acfb5"
      },
      "execution_count": 38,
      "outputs": [
        {
          "output_type": "execute_result",
          "data": {
            "text/plain": [
              "array([0, 0, 0])"
            ]
          },
          "metadata": {},
          "execution_count": 38
        }
      ]
    },
    {
      "cell_type": "markdown",
      "source": [
        "# **Copy**"
      ],
      "metadata": {
        "id": "-rF-cg183UU0"
      }
    },
    {
      "cell_type": "code",
      "source": [
        "a=np.array([10,20,30,40,50,60,70,80])\n",
        "b=a[3:6].copy()\n",
        "b[:]=0\n",
        "a"
      ],
      "metadata": {
        "id": "JYDAD8F3yWDN",
        "colab": {
          "base_uri": "https://localhost:8080/"
        },
        "outputId": "9233a77f-8a13-4309-9aff-39917e580cf9"
      },
      "execution_count": 36,
      "outputs": [
        {
          "output_type": "execute_result",
          "data": {
            "text/plain": [
              "array([10, 20, 30, 40, 50, 60, 70, 80])"
            ]
          },
          "metadata": {},
          "execution_count": 36
        }
      ]
    },
    {
      "cell_type": "code",
      "source": [
        "b"
      ],
      "metadata": {
        "id": "mcwuBQZ2yVjC",
        "colab": {
          "base_uri": "https://localhost:8080/"
        },
        "outputId": "d278cae4-2991-492a-92ce-84790403995c"
      },
      "execution_count": 37,
      "outputs": [
        {
          "output_type": "execute_result",
          "data": {
            "text/plain": [
              "array([0, 0, 0])"
            ]
          },
          "metadata": {},
          "execution_count": 37
        }
      ]
    },
    {
      "cell_type": "markdown",
      "source": [
        "# **Conditional Selection == starting value included and last value excluded**"
      ],
      "metadata": {
        "id": "vX3oq7Uo4m_p"
      }
    },
    {
      "cell_type": "code",
      "source": [
        "a=np.arange(1,16)\n",
        "a"
      ],
      "metadata": {
        "id": "zJTVo-n1yVRN",
        "colab": {
          "base_uri": "https://localhost:8080/"
        },
        "outputId": "116f8648-dc1d-48db-d9e9-a2e55d07f969"
      },
      "execution_count": 39,
      "outputs": [
        {
          "output_type": "execute_result",
          "data": {
            "text/plain": [
              "array([ 1,  2,  3,  4,  5,  6,  7,  8,  9, 10, 11, 12, 13, 14, 15])"
            ]
          },
          "metadata": {},
          "execution_count": 39
        }
      ]
    },
    {
      "cell_type": "code",
      "source": [
        "a>10"
      ],
      "metadata": {
        "id": "sUoiBWsVyVOe",
        "colab": {
          "base_uri": "https://localhost:8080/"
        },
        "outputId": "2d41bf2b-0f3a-4b9f-c2b4-ca28fcf52d92"
      },
      "execution_count": 40,
      "outputs": [
        {
          "output_type": "execute_result",
          "data": {
            "text/plain": [
              "array([False, False, False, False, False, False, False, False, False,\n",
              "       False,  True,  True,  True,  True,  True])"
            ]
          },
          "metadata": {},
          "execution_count": 40
        }
      ]
    },
    {
      "cell_type": "code",
      "source": [
        "a<10"
      ],
      "metadata": {
        "id": "McLdEmVPyVJs",
        "colab": {
          "base_uri": "https://localhost:8080/"
        },
        "outputId": "753fe688-614a-40d7-ace8-e495e55e7a38"
      },
      "execution_count": 41,
      "outputs": [
        {
          "output_type": "execute_result",
          "data": {
            "text/plain": [
              "array([ True,  True,  True,  True,  True,  True,  True,  True,  True,\n",
              "       False, False, False, False, False, False])"
            ]
          },
          "metadata": {},
          "execution_count": 41
        }
      ]
    },
    {
      "cell_type": "code",
      "source": [
        "b = a>10\n",
        "a[b]"
      ],
      "metadata": {
        "colab": {
          "base_uri": "https://localhost:8080/"
        },
        "id": "IrgfVxMy9FMu",
        "outputId": "d0a556e0-6d98-4988-cbb8-8f97bee9c399"
      },
      "execution_count": 42,
      "outputs": [
        {
          "output_type": "execute_result",
          "data": {
            "text/plain": [
              "array([11, 12, 13, 14, 15])"
            ]
          },
          "metadata": {},
          "execution_count": 42
        }
      ]
    },
    {
      "cell_type": "code",
      "source": [
        "a[a%2 == 0]"
      ],
      "metadata": {
        "id": "64ILUhnT9FJT"
      },
      "execution_count": null,
      "outputs": []
    },
    {
      "cell_type": "code",
      "source": [
        "a  = np.array([1,2,3,4]).reshape(2,2)\n",
        "a"
      ],
      "metadata": {
        "colab": {
          "base_uri": "https://localhost:8080/"
        },
        "id": "OpiHZcEN9FG5",
        "outputId": "bedeb1ca-95d9-4815-ef3b-a9e75a222eb0"
      },
      "execution_count": 43,
      "outputs": [
        {
          "output_type": "execute_result",
          "data": {
            "text/plain": [
              "array([[1, 2],\n",
              "       [3, 4]])"
            ]
          },
          "metadata": {},
          "execution_count": 43
        }
      ]
    },
    {
      "cell_type": "code",
      "source": [
        "b  = np.array([5,6,7,8]).reshape(2,2)\n",
        "b"
      ],
      "metadata": {
        "colab": {
          "base_uri": "https://localhost:8080/"
        },
        "id": "QULxK9JlG3G6",
        "outputId": "89935096-9680-4338-9602-8fe530ea5eaa"
      },
      "execution_count": 44,
      "outputs": [
        {
          "output_type": "execute_result",
          "data": {
            "text/plain": [
              "array([[5, 6],\n",
              "       [7, 8]])"
            ]
          },
          "metadata": {},
          "execution_count": 44
        }
      ]
    },
    {
      "cell_type": "code",
      "source": [
        "a+b"
      ],
      "metadata": {
        "colab": {
          "base_uri": "https://localhost:8080/"
        },
        "id": "8iJUlhX4G4kS",
        "outputId": "e2c2ea1a-eaae-453b-f856-e6a0d9f05d07"
      },
      "execution_count": 45,
      "outputs": [
        {
          "output_type": "execute_result",
          "data": {
            "text/plain": [
              "array([[ 6,  8],\n",
              "       [10, 12]])"
            ]
          },
          "metadata": {},
          "execution_count": 45
        }
      ]
    },
    {
      "cell_type": "code",
      "source": [
        "b-a"
      ],
      "metadata": {
        "colab": {
          "base_uri": "https://localhost:8080/"
        },
        "id": "D26tKQjLG52J",
        "outputId": "8ffdfffb-9e92-41c6-e89e-4ec1fe8e1aa1"
      },
      "execution_count": 46,
      "outputs": [
        {
          "output_type": "execute_result",
          "data": {
            "text/plain": [
              "array([[4, 4],\n",
              "       [4, 4]])"
            ]
          },
          "metadata": {},
          "execution_count": 46
        }
      ]
    },
    {
      "cell_type": "code",
      "source": [
        "b/a"
      ],
      "metadata": {
        "colab": {
          "base_uri": "https://localhost:8080/"
        },
        "id": "melQ0t_bG7C-",
        "outputId": "af381dbd-2286-4e2b-e162-45b975fec10b"
      },
      "execution_count": 47,
      "outputs": [
        {
          "output_type": "execute_result",
          "data": {
            "text/plain": [
              "array([[5.        , 3.        ],\n",
              "       [2.33333333, 2.        ]])"
            ]
          },
          "metadata": {},
          "execution_count": 47
        }
      ]
    },
    {
      "cell_type": "code",
      "source": [
        "a*b"
      ],
      "metadata": {
        "colab": {
          "base_uri": "https://localhost:8080/"
        },
        "id": "ktdU1c5iG81J",
        "outputId": "12e158c6-c936-4540-b946-647769f0635a"
      },
      "execution_count": 48,
      "outputs": [
        {
          "output_type": "execute_result",
          "data": {
            "text/plain": [
              "array([[ 5, 12],\n",
              "       [21, 32]])"
            ]
          },
          "metadata": {},
          "execution_count": 48
        }
      ]
    },
    {
      "cell_type": "code",
      "source": [
        "a.dot(b)"
      ],
      "metadata": {
        "colab": {
          "base_uri": "https://localhost:8080/"
        },
        "id": "XeB7G54lG-eN",
        "outputId": "52632fe8-02ac-4ece-afc4-cf1fa656ef9d"
      },
      "execution_count": 49,
      "outputs": [
        {
          "output_type": "execute_result",
          "data": {
            "text/plain": [
              "array([[19, 22],\n",
              "       [43, 50]])"
            ]
          },
          "metadata": {},
          "execution_count": 49
        }
      ]
    },
    {
      "cell_type": "markdown",
      "source": [
        "**np.unique(arr , return_index = True , return_counts = True)**\n",
        "\n",
        "returns 3 array\n",
        "1. the array with unique values.\n",
        "2. the array with respective index value.\n",
        "3. the array with counting of frequency."
      ],
      "metadata": {
        "id": "4YnHMDvIHFdm"
      }
    },
    {
      "cell_type": "code",
      "source": [
        "a = np.array([10,20,30,40,10,20,50])\n",
        "np.unique(a , return_index = True , return_counts = True)"
      ],
      "metadata": {
        "colab": {
          "base_uri": "https://localhost:8080/"
        },
        "id": "oj0TAlrOHAPp",
        "outputId": "ea1f3941-1baa-477f-a586-587432256c49"
      },
      "execution_count": 50,
      "outputs": [
        {
          "output_type": "execute_result",
          "data": {
            "text/plain": [
              "(array([10, 20, 30, 40, 50]), array([0, 1, 2, 3, 6]), array([2, 2, 1, 1, 1]))"
            ]
          },
          "metadata": {},
          "execution_count": 50
        }
      ]
    },
    {
      "cell_type": "markdown",
      "source": [
        "**Horizontal and Vertical Stacking**"
      ],
      "metadata": {
        "id": "siLbax6UHRIF"
      }
    },
    {
      "cell_type": "code",
      "source": [
        "a = np.array([1,2,3,4])\n",
        "b = np.array([5,6,7,8])\n",
        "c = np.array([9,10,11,12])\n",
        "a"
      ],
      "metadata": {
        "colab": {
          "base_uri": "https://localhost:8080/"
        },
        "id": "KWkGQwdxHNeB",
        "outputId": "2a8fc624-d049-4a29-8d91-476f2cb47788"
      },
      "execution_count": 51,
      "outputs": [
        {
          "output_type": "execute_result",
          "data": {
            "text/plain": [
              "array([1, 2, 3, 4])"
            ]
          },
          "metadata": {},
          "execution_count": 51
        }
      ]
    },
    {
      "cell_type": "code",
      "source": [
        "np.hstack((a,b,c))"
      ],
      "metadata": {
        "colab": {
          "base_uri": "https://localhost:8080/"
        },
        "id": "-rrc-kxmHS-t",
        "outputId": "f47319a5-eb05-41a1-cca1-5d6df275ff56"
      },
      "execution_count": 52,
      "outputs": [
        {
          "output_type": "execute_result",
          "data": {
            "text/plain": [
              "array([ 1,  2,  3,  4,  5,  6,  7,  8,  9, 10, 11, 12])"
            ]
          },
          "metadata": {},
          "execution_count": 52
        }
      ]
    },
    {
      "cell_type": "code",
      "source": [
        "np.vstack((a,b,c))"
      ],
      "metadata": {
        "colab": {
          "base_uri": "https://localhost:8080/"
        },
        "id": "sptmqXNUHUQx",
        "outputId": "231560cc-7086-4261-b748-db5cb612e35a"
      },
      "execution_count": 53,
      "outputs": [
        {
          "output_type": "execute_result",
          "data": {
            "text/plain": [
              "array([[ 1,  2,  3,  4],\n",
              "       [ 5,  6,  7,  8],\n",
              "       [ 9, 10, 11, 12]])"
            ]
          },
          "metadata": {},
          "execution_count": 53
        }
      ]
    },
    {
      "cell_type": "markdown",
      "source": [
        "**Questions for today**"
      ],
      "metadata": {
        "id": "m1i0rL4OHcga"
      }
    },
    {
      "cell_type": "code",
      "source": [],
      "metadata": {
        "id": "gTuh_U1jHVag"
      },
      "execution_count": 54,
      "outputs": []
    },
    {
      "cell_type": "code",
      "source": [
        "# Q.1 = Write statement to import numpy?\n",
        "\n",
        "import numpy as np"
      ],
      "metadata": {
        "id": "EoAC5TvRHbQo"
      },
      "execution_count": 55,
      "outputs": []
    },
    {
      "cell_type": "code",
      "source": [
        "# Q.2 Create an array using numpy?\n",
        "\n",
        "a = np.array([1,2,3,4,5])\n",
        "a"
      ],
      "metadata": {
        "colab": {
          "base_uri": "https://localhost:8080/"
        },
        "id": "D7XBLpsWHfWe",
        "outputId": "351a7834-7ce5-4dc9-9d7a-115b6b9b6762"
      },
      "execution_count": 56,
      "outputs": [
        {
          "output_type": "execute_result",
          "data": {
            "text/plain": [
              "array([1, 2, 3, 4, 5])"
            ]
          },
          "metadata": {},
          "execution_count": 56
        }
      ]
    },
    {
      "cell_type": "code",
      "source": [
        "# Q.3 Create an array of 10 random integers?\n",
        "\n",
        "a = np.random.randint(1,50,10)\n",
        "a"
      ],
      "metadata": {
        "colab": {
          "base_uri": "https://localhost:8080/"
        },
        "id": "XWc3q3nmHgpY",
        "outputId": "ac2280a8-347e-405c-8c0a-e89dd0bad07c"
      },
      "execution_count": 57,
      "outputs": [
        {
          "output_type": "execute_result",
          "data": {
            "text/plain": [
              "array([35, 33, 41, 22, 27, 27, 20, 17, 39, 39])"
            ]
          },
          "metadata": {},
          "execution_count": 57
        }
      ]
    },
    {
      "cell_type": "code",
      "source": [
        "# Q.4 Create an array of elements from 10-20?\n",
        "\n",
        "a = np.arange(10,21)\n",
        "a"
      ],
      "metadata": {
        "colab": {
          "base_uri": "https://localhost:8080/"
        },
        "id": "7prNWH9QHitU",
        "outputId": "881fb39b-c121-417f-f5a6-5d10c262a055"
      },
      "execution_count": 58,
      "outputs": [
        {
          "output_type": "execute_result",
          "data": {
            "text/plain": [
              "array([10, 11, 12, 13, 14, 15, 16, 17, 18, 19, 20])"
            ]
          },
          "metadata": {},
          "execution_count": 58
        }
      ]
    },
    {
      "cell_type": "code",
      "source": [
        "# Q.5 Create an array which contains value 5, 10 times?\n",
        "\n",
        "a = np.ones(10)*5\n",
        "a"
      ],
      "metadata": {
        "colab": {
          "base_uri": "https://localhost:8080/"
        },
        "id": "oSEJR4VCHj-I",
        "outputId": "8d932fbc-26a1-4ad0-fa06-fd5f7f277f23"
      },
      "execution_count": 59,
      "outputs": [
        {
          "output_type": "execute_result",
          "data": {
            "text/plain": [
              "array([5., 5., 5., 5., 5., 5., 5., 5., 5., 5.])"
            ]
          },
          "metadata": {},
          "execution_count": 59
        }
      ]
    },
    {
      "cell_type": "code",
      "source": [
        "# Q.6 Create a one dimensional array and convert that into 3*3 matrix ?\n",
        "\n",
        "a = np.array([1,2,3,4,5,6,7,8,9])\n",
        "b = a.reshape(3,3)\n",
        "b\n"
      ],
      "metadata": {
        "colab": {
          "base_uri": "https://localhost:8080/"
        },
        "id": "8z9MD7KfHm5M",
        "outputId": "b591bea1-901f-462f-d3a6-3763f61328eb"
      },
      "execution_count": 60,
      "outputs": [
        {
          "output_type": "execute_result",
          "data": {
            "text/plain": [
              "array([[1, 2, 3],\n",
              "       [4, 5, 6],\n",
              "       [7, 8, 9]])"
            ]
          },
          "metadata": {},
          "execution_count": 60
        }
      ]
    },
    {
      "cell_type": "code",
      "source": [
        "#Q.7 Create a 2D array of size 3'3 but all the elements should be between 0 to 1?\n",
        "\n",
        "a = np.random.rand(3,3)\n",
        "a"
      ],
      "metadata": {
        "colab": {
          "base_uri": "https://localhost:8080/"
        },
        "id": "nFgp3XmpHoAo",
        "outputId": "8dcad226-0c59-40d9-da88-9b8b4f129d26"
      },
      "execution_count": 61,
      "outputs": [
        {
          "output_type": "execute_result",
          "data": {
            "text/plain": [
              "array([[0.78300361, 0.85032764, 0.77524489],\n",
              "       [0.03666431, 0.11669374, 0.7512807 ],\n",
              "       [0.23921822, 0.25480601, 0.85762553]])"
            ]
          },
          "metadata": {},
          "execution_count": 61
        }
      ]
    },
    {
      "cell_type": "code",
      "source": [
        "# Q.8 Concatenate 2D array horizontally and vertically?\n",
        "\n",
        "\n",
        "a = [[1,2,3],[4,5,6],[7,8,9]]\n",
        "b = np.array(a)\n",
        "b"
      ],
      "metadata": {
        "colab": {
          "base_uri": "https://localhost:8080/"
        },
        "id": "BakqG4ucHpb8",
        "outputId": "d3425560-b0d0-4c08-a081-099c97099c9f"
      },
      "execution_count": 62,
      "outputs": [
        {
          "output_type": "execute_result",
          "data": {
            "text/plain": [
              "array([[1, 2, 3],\n",
              "       [4, 5, 6],\n",
              "       [7, 8, 9]])"
            ]
          },
          "metadata": {},
          "execution_count": 62
        }
      ]
    },
    {
      "cell_type": "code",
      "source": [
        "np.hstack((a))\n"
      ],
      "metadata": {
        "id": "4xmtUR29Hqzg",
        "outputId": "16a222a9-321f-4128-a1e0-da093aa0b69d",
        "colab": {
          "base_uri": "https://localhost:8080/"
        }
      },
      "execution_count": 63,
      "outputs": [
        {
          "output_type": "execute_result",
          "data": {
            "text/plain": [
              "array([1, 2, 3, 4, 5, 6, 7, 8, 9])"
            ]
          },
          "metadata": {},
          "execution_count": 63
        }
      ]
    },
    {
      "cell_type": "code",
      "source": [
        "np.vstack((a))"
      ],
      "metadata": {
        "id": "ZBbsBFprHsQL",
        "outputId": "b6abac8e-25f5-4278-ebe0-03c04538b11f",
        "colab": {
          "base_uri": "https://localhost:8080/"
        }
      },
      "execution_count": 64,
      "outputs": [
        {
          "output_type": "execute_result",
          "data": {
            "text/plain": [
              "array([[1, 2, 3],\n",
              "       [4, 5, 6],\n",
              "       [7, 8, 9]])"
            ]
          },
          "metadata": {},
          "execution_count": 64
        }
      ]
    },
    {
      "cell_type": "code",
      "source": [],
      "metadata": {
        "id": "mMuSbS6WHtZU"
      },
      "execution_count": null,
      "outputs": []
    }
  ]
}